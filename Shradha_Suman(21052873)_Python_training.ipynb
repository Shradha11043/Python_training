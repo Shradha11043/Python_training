{
  "nbformat": 4,
  "nbformat_minor": 0,
  "metadata": {
    "colab": {
      "provenance": [],
      "authorship_tag": "ABX9TyMBMH48EhAg04WzgMzsAfz0",
      "include_colab_link": true
    },
    "kernelspec": {
      "name": "python3",
      "display_name": "Python 3"
    },
    "language_info": {
      "name": "python"
    }
  },
  "cells": [
    {
      "cell_type": "markdown",
      "metadata": {
        "id": "view-in-github",
        "colab_type": "text"
      },
      "source": [
        "<a href=\"https://colab.research.google.com/github/Shradha11043/Python_training/blob/main/Shradha_Suman(21052873)_Python_training.ipynb\" target=\"_parent\"><img src=\"https://colab.research.google.com/assets/colab-badge.svg\" alt=\"Open In Colab\"/></a>"
      ]
    },
    {
      "cell_type": "code",
      "execution_count": null,
      "metadata": {
        "colab": {
          "base_uri": "https://localhost:8080/"
        },
        "id": "ZF9niYj7YObF",
        "outputId": "27eba029-8d2f-48da-8534-434efbb91283"
      },
      "outputs": [
        {
          "output_type": "stream",
          "name": "stdout",
          "text": [
            "Enter bill amount: 67\n",
            "No discount\n",
            "Pay: 67.0\n"
          ]
        }
      ],
      "source": [
        "#Name:Shradha Suman(21052873)\n",
        "#q1\n",
        "bill = float(input(\"Enter bill amount: \"))\n",
        "\n",
        "if bill > 1000:\n",
        "    print(\"20% discount\")\n",
        "    print(\"Pay:\", bill - bill * 0.20)\n",
        "\n",
        "elif bill > 500:\n",
        "    print(\"10% discount\")\n",
        "    print(\"Pay:\", bill - bill * 0.10)\n",
        "\n",
        "else:\n",
        "    print(\"No discount\")\n",
        "    print(\"Pay:\", bill)"
      ]
    },
    {
      "cell_type": "code",
      "source": [
        "#q2.\n",
        "score = int(input(\"Enter the student's score: \"))\n",
        "\n",
        "if score >= 90 and score <= 100:\n",
        "    print(\"Grade A\")\n",
        "elif score >= 70 and score <= 89:\n",
        "    print(\"Grade B\")\n",
        "elif score >= 50 and score <= 69:\n",
        "    print(\"Grade C\")\n",
        "else:\n",
        "    print(\"Fail\")"
      ],
      "metadata": {
        "colab": {
          "base_uri": "https://localhost:8080/"
        },
        "id": "7MekNi7BG3Ih",
        "outputId": "27b7696e-2ac1-4757-8893-00e95a6c91d8"
      },
      "execution_count": null,
      "outputs": [
        {
          "output_type": "stream",
          "name": "stdout",
          "text": [
            "Enter the student's score: 56\n",
            "Grade C\n"
          ]
        }
      ]
    },
    {
      "cell_type": "code",
      "source": [
        "#q3.\n",
        "age = int(input(\"Enter age: \"))\n",
        "\n",
        "if age < 13:\n",
        "    print(\"Child\")\n",
        "elif age <= 19:\n",
        "    print(\"Teen\")\n",
        "elif age <= 59:\n",
        "    print(\"Adult\")\n",
        "else:\n",
        "    print(\"Senior\")"
      ],
      "metadata": {
        "colab": {
          "base_uri": "https://localhost:8080/"
        },
        "id": "UrEBGUbuHAja",
        "outputId": "87b003c3-76f4-449c-854e-782a15ea5288"
      },
      "execution_count": null,
      "outputs": [
        {
          "output_type": "stream",
          "name": "stdout",
          "text": [
            "Enter age: 66\n",
            "Senior\n"
          ]
        }
      ]
    },
    {
      "cell_type": "code",
      "source": [
        "#q4.\n",
        "\n",
        "num = int(input(\"Enter a number: \"))\n",
        "\n",
        "if num % 2 == 0 and num % 5 == 0:\n",
        "    print(\"Even and divisible by 5\")\n",
        "elif num % 2 != 0 and num % 5 == 0:\n",
        "    print(\"Odd and divisible by 5\")\n",
        "elif num % 2 == 0 and num % 5 != 0:\n",
        "    print(\"Even and not divisible by 5\")\n",
        "else:\n",
        "    print(\"Odd and not divisible by 5\")\n",
        "\n",
        "\n"
      ],
      "metadata": {
        "colab": {
          "base_uri": "https://localhost:8080/"
        },
        "id": "MNeWbwsZHGTb",
        "outputId": "e452c52c-4cdc-45af-cd22-ba4fdddafe38"
      },
      "execution_count": null,
      "outputs": [
        {
          "output_type": "stream",
          "name": "stdout",
          "text": [
            "Enter a number: 54\n",
            "Even and not divisible by 5\n"
          ]
        }
      ]
    },
    {
      "cell_type": "code",
      "source": [
        "#q5.\n",
        "allowed_users = ['john', 'amy', 'sita']\n",
        "\n",
        "# Take username as input\n",
        "username = input(\"Enter your username: \")\n",
        "\n",
        "# Check if username is allowed\n",
        "if username in allowed_users:\n",
        "    print(\"Login successful!\")\n",
        "else:\n",
        "    print(\"Access denied.\")\n"
      ],
      "metadata": {
        "colab": {
          "base_uri": "https://localhost:8080/"
        },
        "id": "TtLZZ1DSHNbZ",
        "outputId": "e01bbc21-032a-426b-d6bd-ef39c6cf9835"
      },
      "execution_count": null,
      "outputs": [
        {
          "output_type": "stream",
          "name": "stdout",
          "text": [
            "Enter your username: 54\n",
            "Access denied.\n"
          ]
        }
      ]
    },
    {
      "cell_type": "code",
      "source": [
        "#q6.\n",
        "num1 = float(input(\"Enter first number: \"))\n",
        "num2 = float(input(\"Enter second number: \"))\n",
        "\n",
        "# Compare the numbers\n",
        "if num1 > num2:\n",
        "    print(\"First number is greater.\")\n",
        "elif num2 > num1:\n",
        "    print(\"Second number is greater.\")\n",
        "else:\n",
        "    print(\"Both numbers are equal.\")"
      ],
      "metadata": {
        "colab": {
          "base_uri": "https://localhost:8080/"
        },
        "id": "spntFwViHUr9",
        "outputId": "ebc6000d-50e8-43b5-e7bb-47ef58fcaa18"
      },
      "execution_count": null,
      "outputs": [
        {
          "output_type": "stream",
          "name": "stdout",
          "text": [
            "Enter first number: 44\n",
            "Enter second number: 6\n",
            "First number is greater.\n"
          ]
        }
      ]
    },
    {
      "cell_type": "code",
      "source": [
        "#q7.\n",
        "age = int(input(\"Enter your age: \"))\n",
        "\n",
        "if age >= 21:\n",
        "    print(\"Eligible for voting and driving.\")\n",
        "elif age >= 18:\n",
        "    print(\"Eligible for voting only.\")\n",
        "else:\n",
        "    print(\"Not eligible for voting or driving.\")"
      ],
      "metadata": {
        "colab": {
          "base_uri": "https://localhost:8080/"
        },
        "id": "4ex4x5TvHctH",
        "outputId": "2d1b724e-3c88-480c-8e67-d9931db76055"
      },
      "execution_count": null,
      "outputs": [
        {
          "output_type": "stream",
          "name": "stdout",
          "text": [
            "Enter your age: 54\n",
            "Eligible for voting and driving.\n"
          ]
        }
      ]
    },
    {
      "cell_type": "code",
      "source": [
        "#q8.\n",
        "year = int(input(\"Enter a year: \"))\n",
        "\n",
        "if (year % 4 == 0 and year % 100 != 0) or (year % 400 == 0):\n",
        "    print(year, \"is a leap year.\")\n",
        "else:\n",
        "    print(year, \"is not a leap year.\")\n"
      ],
      "metadata": {
        "colab": {
          "base_uri": "https://localhost:8080/"
        },
        "id": "195RXDOFHjTN",
        "outputId": "483ef462-6074-4672-ad19-bf47a1384282"
      },
      "execution_count": null,
      "outputs": [
        {
          "output_type": "stream",
          "name": "stdout",
          "text": [
            "Enter a year: 2015\n",
            "2015 is not a leap year.\n"
          ]
        }
      ]
    },
    {
      "cell_type": "code",
      "source": [
        "#q9.\n",
        "allowed_users = ['john', 'amy', 'sita']\n",
        "allowed_roles = ['admin', 'manager']\n",
        "\n",
        "username = input(\"Enter username: \")\n",
        "role = input(\"Enter role: \")\n",
        "\n",
        "if username in allowed_users and role in allowed_roles:\n",
        "    print(\"Login successful!\")\n",
        "else:\n",
        "    print(\"Login failed.\")"
      ],
      "metadata": {
        "colab": {
          "base_uri": "https://localhost:8080/"
        },
        "id": "nlI-7MhUHoba",
        "outputId": "5adefee7-6d19-49fa-a92b-1382316645dc"
      },
      "execution_count": null,
      "outputs": [
        {
          "output_type": "stream",
          "name": "stdout",
          "text": [
            "Enter username: 4\n",
            "Enter role: 2\n",
            "Login failed.\n"
          ]
        }
      ]
    },
    {
      "cell_type": "code",
      "source": [
        "#q10.\n",
        "num1 = float(input(\"Enter first number: \"))\n",
        "num2 = float(input(\"Enter second number: \"))\n",
        "\n",
        "# Take operator as input\n",
        "op = input(\"Enter an operator (+, -, *, /): \")\n",
        "\n",
        "# Perform operation\n",
        "if op == '+':\n",
        "    print(\"Result:\", num1 + num2)\n",
        "elif op == '-':\n",
        "    print(\"Result:\", num1 - num2)\n",
        "elif op == '*':\n",
        "    print(\"Result:\", num1 * num2)\n",
        "elif op == '/':\n",
        "    if num2 != 0:\n",
        "        print(\"Result:\", num1 / num2)\n",
        "    else:\n",
        "        print(\"Error: Cannot divide by zero.\")\n",
        "else:\n",
        "    print(\"Invalid operator\")"
      ],
      "metadata": {
        "colab": {
          "base_uri": "https://localhost:8080/"
        },
        "id": "pGe6xitEHvyI",
        "outputId": "30f2b082-317c-49d8-9994-01d67ec6466b"
      },
      "execution_count": null,
      "outputs": [
        {
          "output_type": "stream",
          "name": "stdout",
          "text": [
            "Enter first number: 43\n",
            "Enter second number: 23\n",
            "Enter an operator (+, -, *, /): +\n",
            "Result: 66.0\n"
          ]
        }
      ]
    },
    {
      "cell_type": "code",
      "source": [
        "#q11.\n",
        "temp = float(input(\"Enter temperature in °C: \"))\n",
        "\n",
        "if temp > 40:\n",
        "    print(\"Heat Alert\")\n",
        "elif temp > 30:\n",
        "    print(\"Warm\")\n",
        "else:\n",
        "    print(\"Normal\")\\"
      ],
      "metadata": {
        "colab": {
          "base_uri": "https://localhost:8080/"
        },
        "id": "OrZWnk4ZH6Bb",
        "outputId": "868b453b-f017-41c6-aca5-07e86c09a4ba"
      },
      "execution_count": null,
      "outputs": [
        {
          "output_type": "stream",
          "name": "stdout",
          "text": [
            "Enter temperature in °C: 67\n",
            "Heat Alert\n"
          ]
        }
      ]
    },
    {
      "cell_type": "code",
      "source": [
        "#q12.\n",
        "password = input(\"Enter your password: \")\n",
        "\n",
        "if len(password) >= 8 and '@' in password:\n",
        "    print(\"Strong password\")\n",
        "else:\n",
        "    print(\"Weak password\")"
      ],
      "metadata": {
        "colab": {
          "base_uri": "https://localhost:8080/"
        },
        "id": "_ribagKQIA7n",
        "outputId": "381bf55d-af1e-461d-d67f-3f139148dee2"
      },
      "execution_count": null,
      "outputs": [
        {
          "output_type": "stream",
          "name": "stdout",
          "text": [
            "Enter your password: 4\n",
            "Weak password\n"
          ]
        }
      ]
    },
    {
      "cell_type": "code",
      "source": [
        "#q13.\n",
        "balance = float(input(\"Enter your account balance: \"))\n",
        "amount = float(input(\"Enter withdrawal amount: \"))\n",
        "\n",
        "if amount <= balance and amount % 100 == 0:\n",
        "    print(\"Withdrawal successful!\")\n",
        "else:\n",
        "    print(\"Withdrawal failed. Check amount or balance.\")"
      ],
      "metadata": {
        "colab": {
          "base_uri": "https://localhost:8080/"
        },
        "id": "mgeTUa-NIHsc",
        "outputId": "26417595-a3a7-4cb5-b726-83c988301000"
      },
      "execution_count": null,
      "outputs": [
        {
          "output_type": "stream",
          "name": "stdout",
          "text": [
            "Enter your account balance: 54\n",
            "Enter withdrawal amount: 8\n",
            "Withdrawal failed. Check amount or balance.\n"
          ]
        }
      ]
    },
    {
      "cell_type": "code",
      "source": [
        "#q14.\n",
        "num = int(input(\"Enter a number: \"))\n",
        "\n",
        "if num % 3 == 0 and num % 5 == 0:\n",
        "    print(\"Divisible by both 3 and 5\")\n",
        "elif num % 3 == 0:\n",
        "    print(\"Divisible only by 3\")\n",
        "elif num % 5 == 0:\n",
        "    print(\"Divisible only by 5\")\n",
        "else:\n",
        "    print(\"Not divisible by 3 or 5\")"
      ],
      "metadata": {
        "colab": {
          "base_uri": "https://localhost:8080/"
        },
        "id": "VKo45qrNIOgE",
        "outputId": "0e008db2-329d-455a-cfde-6df6fd5a1190"
      },
      "execution_count": null,
      "outputs": [
        {
          "output_type": "stream",
          "name": "stdout",
          "text": [
            "Enter a number: 6778\n",
            "Not divisible by 3 or 5\n"
          ]
        }
      ]
    },
    {
      "cell_type": "code",
      "source": [
        "#q15.\n",
        "n = ['pen', 'pencil', 'eraser']\n",
        "\n",
        "product = input(\"Enter product name: \").lower()\n",
        "if product in n:\n",
        "    print(\"Product is available.\")\n",
        "else:\n",
        "    print(\"Product not available.\")\n"
      ],
      "metadata": {
        "colab": {
          "base_uri": "https://localhost:8080/"
        },
        "id": "Go8a1o5YIUx8",
        "outputId": "84514b2f-8703-477d-81ea-45c20d1c2f48"
      },
      "execution_count": null,
      "outputs": [
        {
          "output_type": "stream",
          "name": "stdout",
          "text": [
            "Enter product name: rfh\n",
            "Product not available.\n"
          ]
        }
      ]
    },
    {
      "cell_type": "code",
      "source": [
        "#q16.\n",
        "a = float(input(\"Enter side 1: \"))\n",
        "b = float(input(\"Enter side 2: \"))\n",
        "c = float(input(\"Enter side 3: \"))\n",
        "\n",
        "if a + b > c and b + c > a and a + c > b:\n",
        "    print(\"Valid triangle\")\n",
        "else:\n",
        "    print(\"Invalid triangle\")"
      ],
      "metadata": {
        "colab": {
          "base_uri": "https://localhost:8080/"
        },
        "id": "0MV_zbrKIa3C",
        "outputId": "265154c9-d919-40f4-c47a-0c0edda680c5"
      },
      "execution_count": null,
      "outputs": [
        {
          "output_type": "stream",
          "name": "stdout",
          "text": [
            "Enter side 1: 56\n",
            "Enter side 2: 7\n",
            "Enter side 3: 56\n",
            "Valid triangle\n"
          ]
        }
      ]
    },
    {
      "cell_type": "code",
      "source": [
        "#q17.\n",
        "a = float(input(\"Enter first number: \"))\n",
        "b = float(input(\"Enter second number: \"))\n",
        "c = float(input(\"Enter third number: \"))\n",
        "\n",
        "if a >= b and a >= c:\n",
        "    print(\"Greatest number is:\", a)\n",
        "elif b >= a and b >= c:\n",
        "    print(\"Greatest number is:\", b)\n",
        "else:\n",
        "    print(\"Greatest number is:\", c)"
      ],
      "metadata": {
        "colab": {
          "base_uri": "https://localhost:8080/"
        },
        "id": "Sh7LqrdGIg36",
        "outputId": "65854662-15fb-4182-c39a-ac0952352757"
      },
      "execution_count": null,
      "outputs": [
        {
          "output_type": "stream",
          "name": "stdout",
          "text": [
            "Enter first number: 5\n",
            "Enter second number: 7\n",
            "Enter third number: 9\n",
            "Greatest number is: 9.0\n"
          ]
        }
      ]
    },
    {
      "cell_type": "code",
      "source": [
        "#q18.\n",
        "mark = float(input(\"Enter the mark: \"))\n",
        "\n",
        "if 0 <= mark <= 100:\n",
        "    print(\"Valid mark\")\n",
        "else:\n",
        "    print(\"Invalid mark\")"
      ],
      "metadata": {
        "colab": {
          "base_uri": "https://localhost:8080/"
        },
        "id": "H0N33OehImu4",
        "outputId": "c47df042-b84d-4312-f968-b60d172a2716"
      },
      "execution_count": null,
      "outputs": [
        {
          "output_type": "stream",
          "name": "stdout",
          "text": [
            "Enter the mark: 56\n",
            "Valid mark\n"
          ]
        }
      ]
    },
    {
      "cell_type": "code",
      "source": [
        "#q19.\n",
        "correct_username = \"user123\"\n",
        "correct_password = \"pass123\"\n",
        "\n",
        "# Input from user\n",
        "username = input(\"Enter username: \")\n",
        "password = input(\"Enter password: \")\n",
        "\n",
        "# Check credentials\n",
        "if username == correct_username and password == correct_password:\n",
        "    print(\"Login successful!\")\n",
        "else:\n",
        "    print(\"Login failed.\")"
      ],
      "metadata": {
        "colab": {
          "base_uri": "https://localhost:8080/"
        },
        "id": "G1OmRx3jIsE_",
        "outputId": "08c27159-c7fb-430b-b868-e795b4818abe"
      },
      "execution_count": null,
      "outputs": [
        {
          "output_type": "stream",
          "name": "stdout",
          "text": [
            "Enter username: dfghj\n",
            "Enter password: dfghjki87\n",
            "Login failed.\n"
          ]
        }
      ]
    },
    {
      "cell_type": "code",
      "source": [
        "#Q20.\n",
        "units = int(input(\"Enter units consumed: \"))\n",
        "\n",
        "if units <= 100:\n",
        "    bill = units * 5\n",
        "elif units <= 200:\n",
        "    bill = units * 7\n",
        "else:\n",
        "    bill = units * 10\n",
        "\n",
        "print(\"Total bill: ₹\", bill)\n"
      ],
      "metadata": {
        "colab": {
          "base_uri": "https://localhost:8080/"
        },
        "id": "9GKS8AI_IyGS",
        "outputId": "2a9d7436-e068-4432-b1d2-99008190b799"
      },
      "execution_count": null,
      "outputs": [
        {
          "output_type": "stream",
          "name": "stdout",
          "text": [
            "Enter units consumed: 87\n",
            "Total bill: ₹ 435\n"
          ]
        }
      ]
    }
  ]
}